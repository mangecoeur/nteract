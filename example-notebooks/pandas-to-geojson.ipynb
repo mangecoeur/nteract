{
 "nbformat_minor": 0,
 "cells": [
  {
   "cell_type": "markdown",
   "metadata": {},
   "source": [
    "# Convert a pandas dataframe to geojson for web-mapping\n",
    "\n",
    "Author: Geoff Boeing\n",
    "\nOriginal: [pandas-to-geojson](https://github.com/gboeing/urban-data-science/blob/dc86c9c89b73f87f97301883d7456f1f814589f5/17-Leaflet-Web-Mapping/pandas-to-geojson.ipynb)"
   ]
  },
  {
   "cell_type": "code",
   "execution_count": 1,
   "metadata": {
    "collapsed": false
   },
   "outputs": [],
   "source": [
    "import pandas as pd, requests, json"
   ]
  },
  {
   "cell_type": "markdown",
   "metadata": {},
   "source": [
    "First download data from the city of Berkeley's API. You can use Socrata's $limit parameter to specify how many rows to grab (otherwise the default is 1,000 rows of data): https://dev.socrata.com/docs/paging.html\n",
    "\nExample request: https://data.cityofberkeley.info/resource/k489-uv4i.json?$limit=5"
   ]
  },
  {
   "cell_type": "code",
   "execution_count": 2,
   "metadata": {
    "collapsed": true
   },
   "outputs": [],
   "source": [
    "# API endpoint for city of Berkeley's 311 calls\n",
    "endpoint_url = 'https://data.cityofberkeley.info/resource/k489-uv4i.json?$limit=20'"
   ]
  },
  {
   "cell_type": "code",
   "execution_count": 3,
   "metadata": {
    "collapsed": true
   },
   "outputs": [],
   "source": [
    "# fetch the URL and load the data\n",
    "response = requests.get(endpoint_url)\n",
    "data = response.json()"
   ]
  },
  {
   "cell_type": "markdown",
   "metadata": {},
   "source": [
    "Next, turn the json data into a dataframe and clean it up a bit: drop unnecessary columns and any rows that lack lat-long data. We want to make our json file as small as possible (prefer under 5 mb) so that it can be loaded over the Internet to anyone viewing your map, without taking forever to download a huge file."
   ]
  },
  {
   "cell_type": "code",
   "execution_count": 4,
   "metadata": {
    "collapsed": false
   },
   "outputs": [
    {
     "text": [
      "We have 20 rows\n"
     ],
     "name": "stdout",
     "output_type": "stream"
    },
    {
     "metadata": {},
     "data": {
      "text/plain": [
       "\"['apn', 'city', 'indbdate', 'issue_description', 'issue_type', 'latitude', 'location', 'longitude', 'neighborhood_district', 'object_type', 'secondary_issue_type', 'state', 'street_address', 'ticket_closed_date_time', 'ticket_created_date_time', 'ticket_id', 'ticket_status']\""
      ]
     },
     "execution_count": 4,
     "output_type": "execute_result"
    }
   ],
   "source": [
    "# turn the json data into a dataframe and see how many rows and what columns we have\n",
    "df = pd.DataFrame(data)\n",
    "\n",
    "print('We have {} rows'.format(len(df)))\n",
    "str(df.columns.tolist())"
   ]
  },
  {
   "cell_type": "code",
   "execution_count": 5,
   "metadata": {
    "collapsed": true
   },
   "outputs": [],
   "source": [
    "# convert lat-long to floats and change address from ALL CAPS to regular capitalization\n",
    "df['latitude'] = df['latitude'].astype(float)\n",
    "df['longitude'] = df['longitude'].astype(float)\n",
    "df['street_address'] = df['street_address'].str.title()"
   ]
  },
  {
   "cell_type": "code",
   "execution_count": 6,
   "metadata": {
    "collapsed": false
   },
   "outputs": [],
   "source": [
    "# we don't need all those columns - only keep useful ones\n",
    "cols = ['issue_description', 'issue_type', 'latitude', 'longitude', 'street_address', 'ticket_status']\n",
    "df_subset = df[cols]"
   ]
  },
  {
   "cell_type": "code",
   "execution_count": 7,
   "metadata": {
    "collapsed": false
   },
   "outputs": [
    {
     "text": [
      "We have 11 geotagged rows\n"
     ],
     "name": "stdout",
     "output_type": "stream"
    },
    {
     "metadata": {},
     "data": {
      "text/html": [
       "<div>\n",
       "<table border=\"1\" class=\"dataframe\">\n",
       "  <thead>\n",
       "    <tr style=\"text-align: right;\">\n",
       "      <th></th>\n",
       "      <th>issue_description</th>\n",
       "      <th>issue_type</th>\n",
       "      <th>latitude</th>\n",
       "      <th>longitude</th>\n",
       "      <th>street_address</th>\n",
       "      <th>ticket_status</th>\n",
       "    </tr>\n",
       "  </thead>\n",
       "  <tbody>\n",
       "    <tr>\n",
       "      <th>10</th>\n",
       "      <td>Residential Service Start</td>\n",
       "      <td>Refuse and Recycling</td>\n",
       "      <td>37.864035</td>\n",
       "      <td>-122.261878</td>\n",
       "      <td>2321 Blake St</td>\n",
       "      <td>Closed</td>\n",
       "    </tr>\n",
       "    <tr>\n",
       "      <th>11</th>\n",
       "      <td>Illegal Dumping - City Property</td>\n",
       "      <td>Streets, Utilities, and Transportation</td>\n",
       "      <td>37.864073</td>\n",
       "      <td>-122.274153</td>\n",
       "      <td>2421 Grant St</td>\n",
       "      <td>Closed</td>\n",
       "    </tr>\n",
       "    <tr>\n",
       "      <th>15</th>\n",
       "      <td>Commercial Special Pickup</td>\n",
       "      <td>Refuse and Recycling</td>\n",
       "      <td>37.869593</td>\n",
       "      <td>-122.285732</td>\n",
       "      <td>1316 University Ave</td>\n",
       "      <td>Closed</td>\n",
       "    </tr>\n",
       "    <tr>\n",
       "      <th>16</th>\n",
       "      <td>Commercial Reminder</td>\n",
       "      <td>Refuse and Recycling</td>\n",
       "      <td>37.885906</td>\n",
       "      <td>-122.270686</td>\n",
       "      <td>2075 Eunice St</td>\n",
       "      <td>Closed</td>\n",
       "    </tr>\n",
       "    <tr>\n",
       "      <th>19</th>\n",
       "      <td>Residential Bulky Pickup</td>\n",
       "      <td>Refuse and Recycling</td>\n",
       "      <td>37.851409</td>\n",
       "      <td>-122.274282</td>\n",
       "      <td>3118 King St</td>\n",
       "      <td>Closed</td>\n",
       "    </tr>\n",
       "  </tbody>\n",
       "</table>\n",
       "</div>"
      ],
      "text/plain": [
       "                  issue_description                              issue_type  \\\n",
       "10        Residential Service Start                    Refuse and Recycling   \n",
       "11  Illegal Dumping - City Property  Streets, Utilities, and Transportation   \n",
       "15        Commercial Special Pickup                    Refuse and Recycling   \n",
       "16              Commercial Reminder                    Refuse and Recycling   \n",
       "19         Residential Bulky Pickup                    Refuse and Recycling   \n",
       "\n",
       "     latitude   longitude       street_address ticket_status  \n",
       "10  37.864035 -122.261878        2321 Blake St        Closed  \n",
       "11  37.864073 -122.274153        2421 Grant St        Closed  \n",
       "15  37.869593 -122.285732  1316 University Ave        Closed  \n",
       "16  37.885906 -122.270686       2075 Eunice St        Closed  \n",
       "19  37.851409 -122.274282         3118 King St        Closed  "
      ]
     },
     "execution_count": 7,
     "output_type": "execute_result"
    }
   ],
   "source": [
    "# drop any rows that lack lat/long data\n",
    "df_geo = df_subset.dropna(subset=['latitude', 'longitude'], axis=0, inplace=False)\n",
    "\n",
    "print('We have {} geotagged rows'.format(len(df_geo)))\n",
    "df_geo.tail()"
   ]
  },
  {
   "cell_type": "code",
   "execution_count": 8,
   "metadata": {
    "collapsed": false
   },
   "outputs": [
    {
     "metadata": {},
     "data": {
      "text/plain": [
       "Refuse and Recycling                      8\n",
       "Streets, Utilities, and Transportation    2\n",
       "General Questions/information             1\n",
       "Name: issue_type, dtype: int64"
      ]
     },
     "execution_count": 8,
     "output_type": "execute_result"
    }
   ],
   "source": [
    "# what is the distribution of issue types?\n",
    "df_geo['issue_type'].value_counts()"
   ]
  },
  {
   "cell_type": "markdown",
   "metadata": {},
   "source": [
    "Finally, convert each row in the dataframe to a geojson-formatted feature and save the result as a file. The format is pretty simple and you can see it here: http://geojson.org/"
   ]
  },
  {
   "cell_type": "code",
   "execution_count": 9,
   "metadata": {
    "collapsed": false
   },
   "outputs": [],
   "source": [
    "def df_to_geojson(df, properties, lat='latitude', lon='longitude'):\n",
    "    # create a new python dict to contain our geojson data, using geojson format\n",
    "    geojson = {'type':'FeatureCollection', 'features':[]}\n",
    "\n",
    "    # loop through each row in the dataframe and convert each row to geojson format\n",
    "    for _, row in df.iterrows():\n",
    "        # create a feature template to fill in\n",
    "        feature = {'type':'Feature',\n",
    "                   'properties':{},\n",
    "                   'geometry':{'type':'Point',\n",
    "                               'coordinates':[]}}\n",
    "\n",
    "        # fill in the coordinates\n",
    "        feature['geometry']['coordinates'] = [row[lon],row[lat]]\n",
    "\n",
    "        # for each column, get the value and add it as a new feature property\n",
    "        for prop in properties:\n",
    "            feature['properties'][prop] = row[prop]\n",
    "        \n",
    "        # add this feature (aka, converted dataframe row) to the list of features inside our dict\n",
    "        geojson['features'].append(feature)\n",
    "    \n",
    "    return geojson"
   ]
  },
  {
   "cell_type": "code",
   "execution_count": 10,
   "metadata": {
    "collapsed": true
   },
   "outputs": [],
   "source": [
    "cols = ['street_address', 'issue_description', 'issue_type', 'ticket_status']\n",
    "geojson = df_to_geojson(df_geo, cols)"
   ]
  },
  {
   "cell_type": "markdown",
   "metadata": {},
   "source": [
    "In [nteract](https://github.com/nteract/nteract), we can display geojson directly with the built-in leaflet renderer."
   ]
  },
  {
   "cell_type": "code",
   "execution_count": 11,
   "metadata": {
    "collapsed": false
   },
   "outputs": [
    {
     "metadata": {},
     "data": {
      "application/vnd.geo+json": {
       "features": [
        {
         "properties": {
          "issue_description": "Residential Lost or Stolen Cart",
          "street_address": "618 Neilson St",
          "issue_type": "Refuse and Recycling",
          "ticket_status": "Closed"
         },
         "geometry": {
          "coordinates": [
           -122.28663348,
           37.8961979
          ],
          "type": "Point"
         },
         "type": "Feature"
        },
        {
         "properties": {
          "issue_description": "Commercial Missed Pickup",
          "street_address": "1491 San Pablo Ave",
          "issue_type": "Refuse and Recycling",
          "ticket_status": "Closed"
         },
         "geometry": {
          "coordinates": [
           -122.29423071,
           37.87667572
          ],
          "type": "Point"
         },
         "type": "Feature"
        },
        {
         "properties": {
          "issue_description": "Miscellaneous Service Request",
          "street_address": "1725 Oxford St",
          "issue_type": "General Questions/information",
          "ticket_status": "Closed"
         },
         "geometry": {
          "coordinates": [
           -122.26624735,
           37.87632996
          ],
          "type": "Point"
         },
         "type": "Feature"
        },
        {
         "properties": {
          "issue_description": "Residential Site Inspection",
          "street_address": "2329 Grant St",
          "issue_type": "Refuse and Recycling",
          "ticket_status": "Closed"
         },
         "geometry": {
          "coordinates": [
           -122.27431864,
           37.86560646
          ],
          "type": "Point"
         },
         "type": "Feature"
        },
        {
         "properties": {
          "issue_description": "Residential Cart Size Decrease",
          "street_address": "2701 Buena Vista Way",
          "issue_type": "Refuse and Recycling",
          "ticket_status": "Closed"
         },
         "geometry": {
          "coordinates": [
           -122.25776331,
           37.881966
          ],
          "type": "Point"
         },
         "type": "Feature"
        },
        {
         "properties": {
          "issue_description": "Illegal Dumping - City Property",
          "street_address": "1636 Sixty-Third St",
          "issue_type": "Streets, Utilities, and Transportation",
          "ticket_status": "Closed"
         },
         "geometry": {
          "coordinates": [
           -122.27390227,
           37.84721363
          ],
          "type": "Point"
         },
         "type": "Feature"
        },
        {
         "properties": {
          "issue_description": "Residential Service Start",
          "street_address": "2321 Blake St",
          "issue_type": "Refuse and Recycling",
          "ticket_status": "Closed"
         },
         "geometry": {
          "coordinates": [
           -122.26187786,
           37.86403489
          ],
          "type": "Point"
         },
         "type": "Feature"
        },
        {
         "properties": {
          "issue_description": "Illegal Dumping - City Property",
          "street_address": "2421 Grant St",
          "issue_type": "Streets, Utilities, and Transportation",
          "ticket_status": "Closed"
         },
         "geometry": {
          "coordinates": [
           -122.27415312,
           37.86407292
          ],
          "type": "Point"
         },
         "type": "Feature"
        },
        {
         "properties": {
          "issue_description": "Commercial Special Pickup",
          "street_address": "1316 University Ave",
          "issue_type": "Refuse and Recycling",
          "ticket_status": "Closed"
         },
         "geometry": {
          "coordinates": [
           -122.28573192,
           37.86959343
          ],
          "type": "Point"
         },
         "type": "Feature"
        },
        {
         "properties": {
          "issue_description": "Commercial Reminder",
          "street_address": "2075 Eunice St",
          "issue_type": "Refuse and Recycling",
          "ticket_status": "Closed"
         },
         "geometry": {
          "coordinates": [
           -122.27068606,
           37.8859065
          ],
          "type": "Point"
         },
         "type": "Feature"
        },
        {
         "properties": {
          "issue_description": "Residential Bulky Pickup",
          "street_address": "3118 King St",
          "issue_type": "Refuse and Recycling",
          "ticket_status": "Closed"
         },
         "geometry": {
          "coordinates": [
           -122.27428159,
           37.85140875
          ],
          "type": "Point"
         },
         "type": "Feature"
        }
       ],
       "type": "FeatureCollection"
      }
     },
     "output_type": "display_data"
    }
   ],
   "source": [
    "import IPython\n",
    "IPython.display.display({'application/vnd.geo+json': geojson}, raw=True)"
   ]
  },
  {
   "cell_type": "code",
   "execution_count": null,
   "metadata": {
    "collapsed": false
   },
   "source": [],
   "outputs": []
  }
 ],
 "metadata": {
  "LICENSE": "MIT License\n\nCopyright (c) 2016 Geoff Boeing, http://geoffboeing.com\n\nPermission is hereby granted, free of charge, to any person obtaining a copy\nof this software and associated documentation files (the \"Software\"), to deal\nin the Software without restriction, including without limitation the rights\nto use, copy, modify, merge, publish, distribute, sublicense, and/or sell\ncopies of the Software, and to permit persons to whom the Software is\nfurnished to do so, subject to the following conditions:\n\nThe above copyright notice and this permission notice shall be included in all\ncopies or substantial portions of the Software.\n\nTHE SOFTWARE IS PROVIDED \"AS IS\", WITHOUT WARRANTY OF ANY KIND, EXPRESS OR\nIMPLIED, INCLUDING BUT NOT LIMITED TO THE WARRANTIES OF MERCHANTABILITY,\nFITNESS FOR A PARTICULAR PURPOSE AND NONINFRINGEMENT. IN NO EVENT SHALL THE\nAUTHORS OR COPYRIGHT HOLDERS BE LIABLE FOR ANY CLAIM, DAMAGES OR OTHER\nLIABILITY, WHETHER IN AN ACTION OF CONTRACT, TORT OR OTHERWISE, ARISING FROM,\nOUT OF OR IN CONNECTION WITH THE SOFTWARE OR THE USE OR OTHER DEALINGS IN THE\nSOFTWARE.",
  "kernel_info": {
   "name": "python3"
  },
  "kernelspec": {
   "name": "python3",
   "language": "python",
   "display_name": "Python 3"
  },
  "language_info": {
   "nbconvert_exporter": "python",
   "name": "python",
   "pygments_lexer": "ipython3",
   "file_extension": ".py",
   "version": "3.5.2",
   "mimetype": "text/x-python",
   "codemirror_mode": {
    "name": "ipython",
    "version": 3
   }
  }
 },
 "nbformat": 4
}